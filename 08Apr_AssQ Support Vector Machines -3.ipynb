{
 "cells": [
  {
   "cell_type": "markdown",
   "id": "125d6e2d-6ff7-457f-9867-96c4ae79284d",
   "metadata": {},
   "source": [
    "Q1. In order to predict house price based on several characteristics, such as location, square footage,\n",
    "number of bedrooms, etc., you are developing an SVM regression model. Which regression metric in this\n",
    "situation would be the best to employ? "
   ]
  },
  {
   "cell_type": "markdown",
   "id": "85b9f95c-5103-42e1-9ca0-3334f2713c5f",
   "metadata": {},
   "source": [
    "When developing an SVM regression model to predict house prices based on characteristics like location, square footage, number of bedrooms, etc., you would want to choose regression evaluation metrics that provide insights into how well your model's predictions align with the actual house prices. Here are the most commonly used regression metrics for this scenario:\n",
    "\n",
    "1. Mean Absolute Error (MAE): \n",
    "    MAE measures the average absolute difference between your model's predictions and the actual house prices. It gives you a sense of the average magnitude of errors in your predictions.\n",
    "\n",
    "2. Mean Squared Error (MSE):\n",
    "    MSE calculates the average of the squared differences between your predictions and the actual prices. It amplifies larger errors more than smaller errors, making it suitable for penalizing outliers.\n",
    "\n",
    "3. Root Mean Squared Error (RMSE):\n",
    "    RMSE is the square root of MSE, and it provides a measure of the typical error in your predictions. It's in the same unit as your target variable (house price), which makes it easier to interpret.\n",
    "\n",
    "4. R-squared (Coefficient of Determination):\n",
    "    R-squared measures the proportion of the variance in the target variable that is explained by your model's predictions. It ranges from 0 to 1, where a higher value indicates a better fit of your model to the data.\n",
    "\n",
    "5. Mean Percentage Error (MAPE): \n",
    "    MAPE calculates the average percentage difference between your predictions and the actual prices. It's useful for understanding the relative errors in your predictions.\n",
    "\n",
    "6. Median Absolute Error (MedAE): \n",
    "    Similar to MAE, but using the median instead of the mean. MedAE is less sensitive to outliers and can provide a more robust measure of prediction accuracy.\n",
    "\n"
   ]
  },
  {
   "cell_type": "markdown",
   "id": "bbc90ff0-6917-4491-93bd-82f1110c827e",
   "metadata": {},
   "source": [
    "Q2. You have built an SVM regression model and are trying to decide between using MSE or R-squared as\n",
    "your evaluation metric. Which metric would be more appropriate if your goal is to predict the actual price\n",
    "of a house as accurately as possible? "
   ]
  },
  {
   "cell_type": "markdown",
   "id": "ca3a4fe6-87bc-4e7f-a928-95fc32a4b22c",
   "metadata": {},
   "source": [
    "If your main aim is to make sure your predictions for house prices are as close to the actual prices as possible, then you should focus on the Mean Squared Error (MSE). This metric takes into account both small and large differences between your predicted prices and the actual prices. It's like giving more attention to getting all predictions as accurate as they can be.\n",
    "\n",
    "On the other hand, while R-squared is helpful to see how well your model explains the overall pattern of the data, it might not pay as much attention to the specific accuracy of individual predictions.\n",
    "\n",
    "So, if you want your model to predict each house's price as accurately as possible, look at MSE. It's like aiming for the smallest differences between your predictions and the actual prices."
   ]
  },
  {
   "cell_type": "markdown",
   "id": "6531db52-000b-4f28-a464-f925ff8d2bef",
   "metadata": {},
   "source": [
    "Q3. You have a dataset with a significant number of outliers and are trying to select an appropriate\n",
    "regression metric to use with your SVM model. Which metric would be the most appropriate in this\n",
    "scenario? "
   ]
  },
  {
   "cell_type": "markdown",
   "id": "02ed597f-6c02-4030-bdee-1280bb606796",
   "metadata": {},
   "source": [
    "When dealing with a dataset that contains a significant number of outliers, an appropriate regression metric to consider using with your SVM model is the Median Absolute Error (MedAE).\n",
    "\n",
    "The Median Absolute Error is a robust metric that focuses on the median value of the absolute differences between your predicted values and the actual values. Unlike the Mean Absolute Error (MAE) or Mean Squared Error (MSE), which can be heavily influenced by outliers, the MedAE is less affected by extreme values in the dataset. This makes it a good choice when your data has a substantial number of outliers that could disproportionately affect the performance of metrics like MSE or MAE.\n",
    "\n",
    "The MedAE essentially calculates the median of the magnitudes of errors, giving you a measure of how far off your predictions are from the actual values while being less sensitive to outliers. This makes it a more reliable choice when dealing with data that has a significant number of extreme values.\n",
    "\n"
   ]
  },
  {
   "cell_type": "markdown",
   "id": "88a81359-d5ea-4c93-87a1-16a64dd769f0",
   "metadata": {},
   "source": [
    "Q4. You have built an SVM regression model using a polynomial kernel and are trying to select the best\n",
    "metric to evaluate its performance. You have calculated both MSE and RMSE and found that both values\n",
    "are very close. Which metric should you choose to use in this case? "
   ]
  },
  {
   "cell_type": "markdown",
   "id": "9c906fcf-bceb-49ad-98d5-e41412443012",
   "metadata": {},
   "source": [
    "If you've built an SVM regression model with a polynomial kernel and you've calculated both the Mean Squared Error (MSE) and the Root Mean Squared Error (RMSE), and you find that both values are very close, it's generally a good idea to choose the Root Mean Squared Error (RMSE) as the evaluation metric.\n",
    "\n",
    "RMSE is a modified version of MSE that takes the square root of the average squared differences between predicted and actual values. Since RMSE includes the square root, it gives you a measure in the same units as your original target variable (house price in this case). This makes it easier to interpret the prediction errors in terms of the actual prices.\n",
    "\n",
    "In situations where MSE and RMSE are similar, RMSE is preferred because it provides a more intuitive understanding of how far off your predictions are from the actual values in the original units. It's particularly useful when you want to communicate the prediction error to non-technical stakeholders who might be more familiar with the scale of the target variable.\n",
    "\n",
    "So, when dealing with a polynomial kernel SVM regression model where MSE and RMSE are very close, you should choose RMSE for its practical interpretability and alignment with the original units of your target variable. "
   ]
  },
  {
   "cell_type": "markdown",
   "id": "aeb64527-d234-411a-969e-b36627a0c937",
   "metadata": {},
   "source": [
    "Q5. You are comparing the performance of different SVM regression models using different kernels (linear,\n",
    "polynomial, and RBF) and are trying to select the best evaluation metric. Which metric would be most \n",
    "appropriate if your goal is to measure how well the model explains the variance in the target variable?"
   ]
  },
  {
   "cell_type": "markdown",
   "id": "859c799f-9151-44a1-a1e5-76d7f638a5c3",
   "metadata": {},
   "source": [
    "If your goal is to measure how well the model explains the variance in the target variable when comparing different SVM regression models with different kernels (linear, polynomial, and RBF), the most appropriate evaluation metric would be the R-squared (Coefficient of Determination).\n",
    "\n",
    "R-squared is a metric that specifically focuses on how much of the variance in the target variable is explained by the model's predictions. It provides a value between 0 and 1, where higher values indicate that the model's predictions better explain the variability in the target variable. An R-squared value closer to 1 suggests that the model is capturing a large portion of the underlying patterns in the data, while a value closer to 0 indicates that the model is not explaining much of the variance.\n",
    "\n",
    "In the context of comparing different models with different kernels, R-squared can help you understand which model is better at capturing the variations in the target variable, providing insights into their relative explanatory power. "
   ]
  },
  {
   "cell_type": "code",
   "execution_count": null,
   "id": "c3e6b4b7-e027-441e-a89d-c0b84937b9be",
   "metadata": {},
   "outputs": [],
   "source": []
  }
 ],
 "metadata": {
  "kernelspec": {
   "display_name": "Python 3 (ipykernel)",
   "language": "python",
   "name": "python3"
  },
  "language_info": {
   "codemirror_mode": {
    "name": "ipython",
    "version": 3
   },
   "file_extension": ".py",
   "mimetype": "text/x-python",
   "name": "python",
   "nbconvert_exporter": "python",
   "pygments_lexer": "ipython3",
   "version": "3.10.8"
  }
 },
 "nbformat": 4,
 "nbformat_minor": 5
}
